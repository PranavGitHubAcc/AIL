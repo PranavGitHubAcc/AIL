{
 "cells": [
  {
   "cell_type": "code",
   "execution_count": 5,
   "id": "f736c38d-23dd-46fe-a9cc-46588202a09d",
   "metadata": {},
   "outputs": [],
   "source": [
    "import numpy as np\n",
    "import itertools\n",
    "import random "
   ]
  },
  {
   "cell_type": "code",
   "execution_count": 7,
   "id": "4fbbd020-1f92-4a02-96e1-44bda718d6d1",
   "metadata": {},
   "outputs": [],
   "source": [
    "def step(x):\n",
    "    return 1 if x>=0 else 0"
   ]
  },
  {
   "cell_type": "code",
   "execution_count": 15,
   "id": "5dc71ad4-2617-4841-b9cd-56083d80e0d0",
   "metadata": {},
   "outputs": [],
   "source": [
    "def generate_combinations(n):\n",
    "    return np.array(list(itertools.product([0,1], repeat = n)))"
   ]
  },
  {
   "cell_type": "code",
   "execution_count": 34,
   "id": "4687a25d-14bd-44ce-87b5-c0ec01026187",
   "metadata": {},
   "outputs": [],
   "source": [
    "def forward_propagate(X, w1, b1, w2, b2, w3, b3):\n",
    "\n",
    "    z1 = np.dot(X, w1) + b1\n",
    "    a1 = np.vectorize(step) (z1) \n",
    "    \n",
    "    z2 = np.dot(a1, w2) + b2\n",
    "    a2 = np.vectorize(step)(z2)\n",
    "    \n",
    "    z3 = np.dot(a2, w3) + b3\n",
    "    a3 = np.vectorize(step) (z3)\n",
    "\n",
    "    return a3"
   ]
  },
  {
   "cell_type": "code",
   "execution_count": 20,
   "id": "d1135953-8ce5-481b-9baa-277a9cecd56c",
   "metadata": {},
   "outputs": [
    {
     "name": "stdin",
     "output_type": "stream",
     "text": [
      "Enter the number of binary inputs:  2\n"
     ]
    },
    {
     "name": "stdout",
     "output_type": "stream",
     "text": [
      "Enter the output for the inputs \n"
     ]
    },
    {
     "name": "stdin",
     "output_type": "stream",
     "text": [
      "[0, 0] 0\n"
     ]
    },
    {
     "name": "stdout",
     "output_type": "stream",
     "text": [
      "Enter the output for the inputs \n"
     ]
    },
    {
     "name": "stdin",
     "output_type": "stream",
     "text": [
      "[0, 1] 1\n"
     ]
    },
    {
     "name": "stdout",
     "output_type": "stream",
     "text": [
      "Enter the output for the inputs \n"
     ]
    },
    {
     "name": "stdin",
     "output_type": "stream",
     "text": [
      "[1, 0] 1\n"
     ]
    },
    {
     "name": "stdout",
     "output_type": "stream",
     "text": [
      "Enter the output for the inputs \n"
     ]
    },
    {
     "name": "stdin",
     "output_type": "stream",
     "text": [
      "[1, 1] 0\n"
     ]
    }
   ],
   "source": [
    "num_inputs = int(input(\"Enter the number of binary inputs: \"))\n",
    "X = generate_combinations(num_inputs)\n",
    "\n",
    "output = []\n",
    "for row in X:\n",
    "    print(\"Enter the output for the inputs \")\n",
    "    a = int(input(list(row)))\n",
    "    output.append(a) \n",
    "y = np.array(output).reshape(-1, 1)"
   ]
  },
  {
   "cell_type": "code",
   "execution_count": 38,
   "id": "b453ba0e-c1e2-4c51-9487-b5d1aa6aeee2",
   "metadata": {},
   "outputs": [
    {
     "name": "stdout",
     "output_type": "stream",
     "text": [
      "Found at iteration  1608\n",
      "[[-1.20153856  0.57855791]\n",
      " [ 1.63436451 -0.57588066]]\n",
      "0\n",
      "[[ 1.92561658  0.6333948 ]\n",
      " [-1.8336543   0.47036162]]\n",
      "-1\n",
      "[[ 1.7949165 ]\n",
      " [-1.13580185]]\n",
      "1\n"
     ]
    }
   ],
   "source": [
    "found = False\n",
    "iterations = 0\n",
    "while not found:\n",
    "    iterations += 1\n",
    "\n",
    "    w1 = np.random.uniform(-2, 2, (num_inputs, 2))\n",
    "    w2 = np.random.uniform(-2, 2, (2, 2))\n",
    "    w3 = np.random.uniform(-2, 2, (2, 1))\n",
    "\n",
    "    b1 = np.random.randint(-3, 3)\n",
    "    b2 = np.random.randint(-3, 3)\n",
    "    b3 = np.random.randint(-3, 3)\n",
    "\n",
    "    output = forward_propagate(X, w1, b1, w2, b2, w3, b3)\n",
    "    if np.array_equal(y, output):\n",
    "        print(\"Found at iteration \", iterations)\n",
    "        print(w1)\n",
    "        print(b1)\n",
    "        print(w2)\n",
    "        print(b2)\n",
    "        print(w3)\n",
    "        print(b3)\n",
    "        found = True\n",
    "        \n",
    "    if iterations % 100000 == 0:\n",
    "        print(f\"Iteration {iterations}: still searching...\")"
   ]
  }
 ],
 "metadata": {
  "kernelspec": {
   "display_name": "Python 3 (ipykernel)",
   "language": "python",
   "name": "python3"
  },
  "language_info": {
   "codemirror_mode": {
    "name": "ipython",
    "version": 3
   },
   "file_extension": ".py",
   "mimetype": "text/x-python",
   "name": "python",
   "nbconvert_exporter": "python",
   "pygments_lexer": "ipython3",
   "version": "3.12.2"
  }
 },
 "nbformat": 4,
 "nbformat_minor": 5
}
