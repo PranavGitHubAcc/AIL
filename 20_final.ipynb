{
 "cells": [
  {
   "cell_type": "code",
   "execution_count": 10,
   "id": "02ddcd46-9b9f-436b-9b0f-53e61a5ca976",
   "metadata": {},
   "outputs": [
    {
     "name": "stdin",
     "output_type": "stream",
     "text": [
      "Enter the number of binary inputs:  2\n"
     ]
    },
    {
     "name": "stdout",
     "output_type": "stream",
     "text": [
      "Enter the output for the inputs [0, 0]: \n"
     ]
    },
    {
     "name": "stdin",
     "output_type": "stream",
     "text": [
      " 0\n"
     ]
    },
    {
     "name": "stdout",
     "output_type": "stream",
     "text": [
      "Enter the output for the inputs [0, 1]: \n"
     ]
    },
    {
     "name": "stdin",
     "output_type": "stream",
     "text": [
      " 1\n"
     ]
    },
    {
     "name": "stdout",
     "output_type": "stream",
     "text": [
      "Enter the output for the inputs [1, 0]: \n"
     ]
    },
    {
     "name": "stdin",
     "output_type": "stream",
     "text": [
      " 1\n"
     ]
    },
    {
     "name": "stdout",
     "output_type": "stream",
     "text": [
      "Enter the output for the inputs [1, 1]: \n"
     ]
    },
    {
     "name": "stdin",
     "output_type": "stream",
     "text": [
      " 0\n"
     ]
    },
    {
     "name": "stdout",
     "output_type": "stream",
     "text": [
      "epoch 0: loss: 0.28617054694576965\n",
      "epoch 100: loss: 0.08712023525540002\n",
      "epoch 200: loss: 0.02478074076777016\n",
      "epoch 300: loss: 0.012036406521279772\n",
      "epoch 400: loss: 0.007624924003364743\n",
      "epoch 500: loss: 0.005457249333168105\n",
      "epoch 600: loss: 0.0042223497070764315\n",
      "epoch 700: loss: 0.003416887911556787\n",
      "epoch 800: loss: 0.002861259578506017\n",
      "epoch 900: loss: 0.002459231024534686\n",
      "epoch 1000: loss: 0.0021472390183957966\n",
      "epoch 1100: loss: 0.0019323430651151097\n",
      "epoch 1200: loss: 0.001713651879492243\n",
      "epoch 1300: loss: 0.0015652755235480522\n",
      "epoch 1400: loss: 0.0014184579409774669\n",
      "epoch 1500: loss: 0.0013070813829361456\n",
      "epoch 1600: loss: 0.001208872456981689\n",
      "epoch 1700: loss: 0.0011256157358282496\n",
      "epoch 1800: loss: 0.001051744525920076\n",
      "epoch 1900: loss: 0.0009872955438505649\n",
      "epoch 2000: loss: 0.0009298098866551345\n",
      "epoch 2100: loss: 0.0008787101258281487\n",
      "epoch 2200: loss: 0.0008327013509486349\n",
      "epoch 2300: loss: 0.0007915104572713065\n",
      "epoch 2400: loss: 0.0007532895332985458\n",
      "epoch 2500: loss: 0.0007207039368313396\n",
      "epoch 2600: loss: 0.0006877999947920144\n",
      "epoch 2700: loss: 0.0006587317721921107\n",
      "epoch 2800: loss: 0.0006320933249571642\n",
      "epoch 2900: loss: 0.0006073789239930302\n",
      "epoch 3000: loss: 0.0005849169645766119\n",
      "epoch 3100: loss: 0.0005635439596020863\n",
      "epoch 3200: loss: 0.0005437168486422654\n",
      "epoch 3300: loss: 0.000525533397262419\n",
      "epoch 3400: loss: 0.0005080738399005183\n",
      "epoch 3500: loss: 0.0004918329523403276\n",
      "epoch 3600: loss: 0.0004767592064742019\n",
      "epoch 3700: loss: 0.0004624163007922134\n",
      "epoch 3800: loss: 0.00044875877235328295\n",
      "epoch 3900: loss: 0.0004360942679856298\n",
      "Final output:\n",
      "[[0.]\n",
      " [1.]\n",
      " [1.]\n",
      " [0.]]\n"
     ]
    }
   ],
   "source": [
    "import numpy as np \n",
    "import itertools \n",
    "\n",
    "def generate_combination(n):\n",
    "    return np.array(list(itertools.product([0, 1], repeat=n)))\n",
    "\n",
    "def relu(x):\n",
    "    return np.maximum(0, x)\n",
    "\n",
    "def relu_derivative(x):\n",
    "    return np.where(x > 0, 1, 0)\n",
    "\n",
    "def sigmoid(x):\n",
    "    return (1/(1 + np.exp(-x)))\n",
    "\n",
    "def sigmoid_derivative(x):\n",
    "    return x * (1 - x)\n",
    "\n",
    "def forward_chaining(X, w1, b1, w2, b2, w3, b3):\n",
    "    z1 = np.dot(X, w1) + b1\n",
    "    a1 = relu(z1)\n",
    "\n",
    "    z2 = np.dot(a1, w2) + b2\n",
    "    a2 = relu(z2)\n",
    "\n",
    "    z3 = np.dot(a2, w3) + b3\n",
    "    a3 = sigmoid(z3)  \n",
    "\n",
    "    return a1, a2, a3\n",
    "\n",
    "num_inputs = int(input(\"Enter the number of binary inputs: \"))\n",
    "X = generate_combination(num_inputs)\n",
    "\n",
    "output = []\n",
    "for row in X:\n",
    "    print(f\"Enter the output for the inputs {list(row)}: \")\n",
    "    a = int(input())\n",
    "    output.append(a)\n",
    "\n",
    "y = np.array(output).reshape(-1, 1)\n",
    "\n",
    "n_hidden1 = 4\n",
    "n_hidden2 = 3\n",
    "output_size = 1 \n",
    "\n",
    "w1 = np.random.randn(num_inputs, n_hidden1)\n",
    "w2 = np.random.randn(n_hidden1, n_hidden2)\n",
    "w3 = np.random.randn(n_hidden2, output_size)\n",
    "\n",
    "b1 = np.zeros((1, n_hidden1))\n",
    "b2 = np.zeros((1, n_hidden2))\n",
    "b3 = np.zeros((1, output_size))\n",
    "\n",
    "epochs = 4000\n",
    "learning_rate = 0.1\n",
    "\n",
    "for epoch in range(epochs):\n",
    "    a1, a2, result = forward_chaining(X, w1, b1, w2, b2, w3, b3)\n",
    "\n",
    "    loss = np.mean((y - result) ** 2)\n",
    "\n",
    "    error = y - result\n",
    "    d_output = error * sigmoid_derivative(result)\n",
    "\n",
    "    error2 = d_output.dot(w3.T)\n",
    "    d_hidden2 = error2 * relu_derivative(a2)\n",
    "\n",
    "    error1 = d_hidden2.dot(w2.T)\n",
    "    d_hidden1 = error1 * relu_derivative(a1)\n",
    "\n",
    "    w3 += a2.T.dot(d_output) * learning_rate \n",
    "    b3 += np.sum(d_output, axis=0, keepdims=True) * learning_rate \n",
    "    w2 += a1.T.dot(d_hidden2) * learning_rate \n",
    "    b2 += np.sum(d_hidden2, axis=0, keepdims=True) * learning_rate \n",
    "    w1 += X.T.dot(d_hidden1) * learning_rate \n",
    "    b1 += np.sum(d_hidden1, axis=0, keepdims=True) * learning_rate \n",
    "\n",
    "    if epoch % 100 == 0:\n",
    "        print(f\"epoch {epoch}: loss: {loss}\")\n",
    "\n",
    "print(\"Final output:\")\n",
    "print(np.round(forward_chaining(X, w1, b1, w2, b2, w3, b3)[-1]))\n"
   ]
  }
 ],
 "metadata": {
  "kernelspec": {
   "display_name": "Python 3 (ipykernel)",
   "language": "python",
   "name": "python3"
  },
  "language_info": {
   "codemirror_mode": {
    "name": "ipython",
    "version": 3
   },
   "file_extension": ".py",
   "mimetype": "text/x-python",
   "name": "python",
   "nbconvert_exporter": "python",
   "pygments_lexer": "ipython3",
   "version": "3.12.2"
  }
 },
 "nbformat": 4,
 "nbformat_minor": 5
}
