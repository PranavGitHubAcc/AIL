{
 "cells": [
  {
   "cell_type": "code",
   "execution_count": 16,
   "id": "a9c1b320-f3ce-499c-a659-10c8469c0ead",
   "metadata": {},
   "outputs": [
    {
     "name": "stdin",
     "output_type": "stream",
     "text": [
      "Enter the number of binary inputs:  3\n"
     ]
    },
    {
     "name": "stdout",
     "output_type": "stream",
     "text": [
      "Enter the output for the inputs [0, 0, 0]: \n"
     ]
    },
    {
     "name": "stdin",
     "output_type": "stream",
     "text": [
      " 0\n"
     ]
    },
    {
     "name": "stdout",
     "output_type": "stream",
     "text": [
      "Enter the output for the inputs [0, 0, 1]: \n"
     ]
    },
    {
     "name": "stdin",
     "output_type": "stream",
     "text": [
      " 0\n"
     ]
    },
    {
     "name": "stdout",
     "output_type": "stream",
     "text": [
      "Enter the output for the inputs [0, 1, 0]: \n"
     ]
    },
    {
     "name": "stdin",
     "output_type": "stream",
     "text": [
      " 1\n"
     ]
    },
    {
     "name": "stdout",
     "output_type": "stream",
     "text": [
      "Enter the output for the inputs [0, 1, 1]: \n"
     ]
    },
    {
     "name": "stdin",
     "output_type": "stream",
     "text": [
      " 1\n"
     ]
    },
    {
     "name": "stdout",
     "output_type": "stream",
     "text": [
      "Enter the output for the inputs [1, 0, 0]: \n"
     ]
    },
    {
     "name": "stdin",
     "output_type": "stream",
     "text": [
      " 0\n"
     ]
    },
    {
     "name": "stdout",
     "output_type": "stream",
     "text": [
      "Enter the output for the inputs [1, 0, 1]: \n"
     ]
    },
    {
     "name": "stdin",
     "output_type": "stream",
     "text": [
      " 0\n"
     ]
    },
    {
     "name": "stdout",
     "output_type": "stream",
     "text": [
      "Enter the output for the inputs [1, 1, 0]: \n"
     ]
    },
    {
     "name": "stdin",
     "output_type": "stream",
     "text": [
      " 1\n"
     ]
    },
    {
     "name": "stdout",
     "output_type": "stream",
     "text": [
      "Enter the output for the inputs [1, 1, 1]: \n"
     ]
    },
    {
     "name": "stdin",
     "output_type": "stream",
     "text": [
      " 0\n"
     ]
    },
    {
     "name": "stdout",
     "output_type": "stream",
     "text": [
      "epoch 0: loss: 0.6344060105014258\n",
      "epoch 100: loss: 0.007780675788489836\n",
      "epoch 200: loss: 0.017983757599329\n",
      "epoch 300: loss: 0.020553853533602298\n",
      "epoch 400: loss: 0.013757049830858412\n",
      "epoch 500: loss: 0.009734208480595393\n",
      "epoch 600: loss: 0.007234484430009036\n",
      "epoch 700: loss: 0.005597856528038907\n",
      "epoch 800: loss: 0.004478016922165521\n",
      "epoch 900: loss: 0.0036811767949457563\n",
      "epoch 1000: loss: 0.003094371636665926\n",
      "epoch 1100: loss: 0.0026492543817156922\n",
      "epoch 1200: loss: 0.002302943517181088\n",
      "epoch 1300: loss: 0.0020275941038375004\n",
      "epoch 1400: loss: 0.001804545145043101\n",
      "epoch 1500: loss: 0.0016209288707144621\n",
      "epoch 1600: loss: 0.001467642909823363\n",
      "epoch 1700: loss: 0.001338100111499682\n",
      "epoch 1800: loss: 0.001227435609722437\n",
      "epoch 1900: loss: 0.0011319905776442255\n",
      "epoch 2000: loss: 0.0010489679863499865\n",
      "epoch 2100: loss: 0.0009761979948148378\n",
      "epoch 2200: loss: 0.0009119748432251662\n",
      "epoch 2300: loss: 0.0008549413794492616\n",
      "epoch 2400: loss: 0.0008040059400202177\n",
      "epoch 2500: loss: 0.0007582816039325656\n",
      "epoch 2600: loss: 0.0007170411734870497\n",
      "epoch 2700: loss: 0.0006796833793860515\n",
      "epoch 2800: loss: 0.0006457072093892099\n",
      "epoch 2900: loss: 0.000614692193077695\n",
      "epoch 3000: loss: 0.0005862831063573779\n",
      "epoch 3100: loss: 0.000560177992453795\n",
      "epoch 3200: loss: 0.0005361186975646564\n",
      "epoch 3300: loss: 0.0005138833317718132\n",
      "epoch 3400: loss: 0.0004932802174066081\n",
      "epoch 3500: loss: 0.00047414299640912084\n",
      "epoch 3600: loss: 0.0004563266479976496\n",
      "epoch 3700: loss: 0.0004397042266882084\n",
      "epoch 3800: loss: 0.00042416417438872003\n",
      "epoch 3900: loss: 0.00040960809304704766\n",
      "epoch 4000: loss: 0.0003959488891083372\n",
      "epoch 4100: loss: 0.00038310921993014167\n",
      "epoch 4200: loss: 0.0003710201868052194\n",
      "epoch 4300: loss: 0.0003596202304730837\n",
      "epoch 4400: loss: 0.0003488541937347945\n",
      "epoch 4500: loss: 0.0003386725226343641\n",
      "epoch 4600: loss: 0.0003290305830779935\n",
      "epoch 4700: loss: 0.0003198880740359145\n",
      "epoch 4800: loss: 0.00031120852189744143\n",
      "epoch 4900: loss: 0.00030295884327794436\n",
      "Final output:\n",
      "[[-0.]\n",
      " [-0.]\n",
      " [ 1.]\n",
      " [ 1.]\n",
      " [-0.]\n",
      " [-0.]\n",
      " [ 1.]\n",
      " [-0.]]\n"
     ]
    }
   ],
   "source": [
    "import numpy as np \n",
    "import itertools \n",
    "\n",
    "def generate_combination(n):\n",
    "    return np.array(list(itertools.product([0, 1], repeat=n)))\n",
    "\n",
    "def tanh(x):\n",
    "    return np.tanh(x)\n",
    "\n",
    "def tanh_derivative(x):\n",
    "    return 1 - np.tanh(x) ** 2\n",
    "\n",
    "def forward_chaining(X, w1, b1, w2, b2, w3, b3):\n",
    "    z1 = np.dot(X, w1) + b1\n",
    "    a1 = tanh(z1)\n",
    "\n",
    "    z2 = np.dot(a1, w2) + b2\n",
    "    a2 = tanh(z2)\n",
    "\n",
    "    z3 = np.dot(a2, w3) + b3\n",
    "    a3 = tanh(z3)  # final layer also tanh\n",
    "\n",
    "    return a1, a2, a3\n",
    "\n",
    "num_inputs = int(input(\"Enter the number of binary inputs: \"))\n",
    "X = generate_combination(num_inputs)\n",
    "\n",
    "output = []\n",
    "for row in X:\n",
    "    print(f\"Enter the output for the inputs {list(row)}: \")\n",
    "    a = int(input())\n",
    "    output.append(a)\n",
    "\n",
    "y = np.array(output).reshape(-1, 1)\n",
    "\n",
    "n_hidden1 = 4\n",
    "n_hidden2 = 3\n",
    "output_size = 1 \n",
    "\n",
    "# Keep same random initialization (no fancy init)\n",
    "w1 = np.random.randn(num_inputs, n_hidden1)\n",
    "w2 = np.random.randn(n_hidden1, n_hidden2)\n",
    "w3 = np.random.randn(n_hidden2, output_size)\n",
    "\n",
    "b1 = np.zeros((1, n_hidden1))\n",
    "b2 = np.zeros((1, n_hidden2))\n",
    "b3 = np.zeros((1, output_size))\n",
    "\n",
    "epochs = 5000\n",
    "learning_rate = 0.1\n",
    "\n",
    "for epoch in range(epochs):\n",
    "    a1, a2, result = forward_chaining(X, w1, b1, w2, b2, w3, b3)\n",
    "\n",
    "    loss = np.mean((y - result) ** 2)\n",
    "\n",
    "    error = y - result\n",
    "    d_output = error * tanh_derivative(result)\n",
    "\n",
    "    error2 = d_output.dot(w3.T)\n",
    "    d_hidden2 = error2 * tanh_derivative(a2)\n",
    "\n",
    "    error1 = d_hidden2.dot(w2.T)\n",
    "    d_hidden1 = error1 * tanh_derivative(a1)\n",
    "\n",
    "    w3 += a2.T.dot(d_output) * learning_rate \n",
    "    b3 += np.sum(d_output, axis=0, keepdims=True) * learning_rate \n",
    "    w2 += a1.T.dot(d_hidden2) * learning_rate \n",
    "    b2 += np.sum(d_hidden2, axis=0, keepdims=True) * learning_rate \n",
    "    w1 += X.T.dot(d_hidden1) * learning_rate \n",
    "    b1 += np.sum(d_hidden1, axis=0, keepdims=True) * learning_rate \n",
    "\n",
    "    if epoch % 100 == 0:\n",
    "        print(f\"epoch {epoch}: loss: {loss}\")\n",
    "\n",
    "print(\"Final output:\")\n",
    "print(np.round(forward_chaining(X, w1, b1, w2, b2, w3, b3)[-1]))\n"
   ]
  }
 ],
 "metadata": {
  "kernelspec": {
   "display_name": "Python 3 (ipykernel)",
   "language": "python",
   "name": "python3"
  },
  "language_info": {
   "codemirror_mode": {
    "name": "ipython",
    "version": 3
   },
   "file_extension": ".py",
   "mimetype": "text/x-python",
   "name": "python",
   "nbconvert_exporter": "python",
   "pygments_lexer": "ipython3",
   "version": "3.12.2"
  }
 },
 "nbformat": 4,
 "nbformat_minor": 5
}
