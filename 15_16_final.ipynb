{
 "cells": [
  {
   "cell_type": "code",
   "execution_count": 41,
   "id": "b18e98d0-2cbf-4c78-91c3-dc80f0aa65f0",
   "metadata": {},
   "outputs": [
    {
     "name": "stdout",
     "output_type": "stream",
     "text": [
      "Sticks left: 21\n",
      "AI chose 1\n",
      "Sticks left: 20\n"
     ]
    },
    {
     "name": "stdin",
     "output_type": "stream",
     "text": [
      "Enter the number of sticks you want to pick [1, 2 or 3]:  3\n"
     ]
    },
    {
     "name": "stdout",
     "output_type": "stream",
     "text": [
      "Sticks left: 17\n",
      "AI chose 1\n",
      "Sticks left: 16\n"
     ]
    },
    {
     "name": "stdin",
     "output_type": "stream",
     "text": [
      "Enter the number of sticks you want to pick [1, 2 or 3]:  2\n"
     ]
    },
    {
     "name": "stdout",
     "output_type": "stream",
     "text": [
      "Sticks left: 14\n",
      "AI chose 2\n",
      "Sticks left: 12\n"
     ]
    },
    {
     "name": "stdin",
     "output_type": "stream",
     "text": [
      "Enter the number of sticks you want to pick [1, 2 or 3]:  3\n"
     ]
    },
    {
     "name": "stdout",
     "output_type": "stream",
     "text": [
      "Sticks left: 9\n",
      "AI chose 1\n",
      "Sticks left: 8\n"
     ]
    },
    {
     "name": "stdin",
     "output_type": "stream",
     "text": [
      "Enter the number of sticks you want to pick [1, 2 or 3]:  1\n"
     ]
    },
    {
     "name": "stdout",
     "output_type": "stream",
     "text": [
      "Sticks left: 7\n",
      "AI chose 3\n",
      "Sticks left: 4\n"
     ]
    },
    {
     "name": "stdin",
     "output_type": "stream",
     "text": [
      "Enter the number of sticks you want to pick [1, 2 or 3]:  3\n"
     ]
    },
    {
     "name": "stdout",
     "output_type": "stream",
     "text": [
      "Sticks left: 1\n",
      "AI chose 1\n",
      "Sticks left: 0\n",
      "You loose\n"
     ]
    }
   ],
   "source": [
    "# Always wins\n",
    "def minimax(sticks_left, is_maximizing):\n",
    "    if sticks_left < 0:\n",
    "        return -1\n",
    "\n",
    "    if is_maximizing: \n",
    "        temp = -float(\"inf\")\n",
    "\n",
    "        for choice in [1, 2, 3]: \n",
    "            if(sticks_left - choice >= 0):\n",
    "                value = minimax(sticks_left - choice, False)\n",
    "                temp = max(value, temp)\n",
    "        return temp\n",
    "    else:\n",
    "        temp = float(\"inf\")\n",
    "\n",
    "        for choice in [1, 2, 3]:\n",
    "            if sticks_left - choice >= 0:\n",
    "                value = minimax(sticks_left - choice, True)\n",
    "                temp = min(value, temp)\n",
    "        return temp\n",
    "\n",
    "def choose(sticks_left):\n",
    "    \n",
    "    best_move = None\n",
    "    best_value = -float(\"inf\")\n",
    "    \n",
    "    for choice in [1, 2, 3]:\n",
    "        if sticks_left - choice >= 0:\n",
    "            value = minimax(sticks_left - choice, False)\n",
    "            if value > best_value:\n",
    "                best_value = value\n",
    "                best_move = choice\n",
    "                \n",
    "    return best_move\n",
    "\n",
    "\n",
    "sticks_left = 21 \n",
    "print(\"Sticks left:\", sticks_left)\n",
    "while sticks_left > 0:\n",
    "\n",
    "    \n",
    "    b = choose(sticks_left)\n",
    "    print(\"AI chose\", b)\n",
    "    sticks_left -= b\n",
    "    \n",
    "    print(\"Sticks left:\", sticks_left)\n",
    "    \n",
    "    if(sticks_left == 0):\n",
    "        print(\"You loose\")\n",
    "        break\n",
    "    \n",
    "    a = int(input(\"Enter the number of sticks you want to pick [1, 2 or 3]: \"))\n",
    "    \n",
    "    while a not in [1, 2, 3] or a > sticks_left:\n",
    "        print(\"Please enter a valid number. \")\n",
    "        a = int(input(\"Enter the number of sticks you want to pick [1, 2 or 3]: \"))\n",
    "        \n",
    "    sticks_left -= a \n",
    "    print(\"Sticks left:\", sticks_left)\n",
    "    if sticks_left == 0:\n",
    "        print(\"You win\")\n",
    "        break"
   ]
  },
  {
   "cell_type": "code",
   "execution_count": 51,
   "id": "96ed4718-13ed-4849-bee0-75b58e2476a0",
   "metadata": {},
   "outputs": [
    {
     "name": "stdout",
     "output_type": "stream",
     "text": [
      "Sticks left: 21\n",
      "AI chose 1\n",
      "Sticks left: 20\n"
     ]
    },
    {
     "name": "stdin",
     "output_type": "stream",
     "text": [
      "Enter the number of sticks you want to pick [1, 2 or 3]:  2\n"
     ]
    },
    {
     "name": "stdout",
     "output_type": "stream",
     "text": [
      "Sticks left: 18\n",
      "AI chose 1\n",
      "Sticks left: 17\n"
     ]
    },
    {
     "name": "stdin",
     "output_type": "stream",
     "text": [
      "Enter the number of sticks you want to pick [1, 2 or 3]:  3\n"
     ]
    },
    {
     "name": "stdout",
     "output_type": "stream",
     "text": [
      "Sticks left: 14\n",
      "AI chose 1\n",
      "Sticks left: 13\n"
     ]
    },
    {
     "name": "stdin",
     "output_type": "stream",
     "text": [
      "Enter the number of sticks you want to pick [1, 2 or 3]:  3\n"
     ]
    },
    {
     "name": "stdout",
     "output_type": "stream",
     "text": [
      "Sticks left: 10\n",
      "AI chose 1\n",
      "Sticks left: 9\n"
     ]
    },
    {
     "name": "stdin",
     "output_type": "stream",
     "text": [
      "Enter the number of sticks you want to pick [1, 2 or 3]:  3\n"
     ]
    },
    {
     "name": "stdout",
     "output_type": "stream",
     "text": [
      "Sticks left: 6\n",
      "AI chose 1\n",
      "Sticks left: 5\n"
     ]
    },
    {
     "name": "stdin",
     "output_type": "stream",
     "text": [
      "Enter the number of sticks you want to pick [1, 2 or 3]:  3\n"
     ]
    },
    {
     "name": "stdout",
     "output_type": "stream",
     "text": [
      "Sticks left: 2\n",
      "AI chose 1\n",
      "Sticks left: 1\n"
     ]
    },
    {
     "name": "stdin",
     "output_type": "stream",
     "text": [
      "Enter the number of sticks you want to pick [1, 2 or 3]:  3\n"
     ]
    },
    {
     "name": "stdout",
     "output_type": "stream",
     "text": [
      "Please enter a valid number. \n"
     ]
    },
    {
     "name": "stdin",
     "output_type": "stream",
     "text": [
      "Enter the number of sticks you want to pick [1, 2 or 3]:  1\n"
     ]
    },
    {
     "name": "stdout",
     "output_type": "stream",
     "text": [
      "Sticks left: 0\n",
      "You win\n"
     ]
    }
   ],
   "source": [
    "# Always looses\n",
    "def minimax(sticks_left, is_maximizing):\n",
    "    if sticks_left <= 0:\n",
    "        return 1 if is_maximizing else -1\n",
    "\n",
    "    if not is_maximizing: \n",
    "        temp = -float(\"inf\")\n",
    "\n",
    "        for choice in [1, 2, 3]: \n",
    "            if(sticks_left - choice >= 0):\n",
    "                value = minimax(sticks_left - choice, False)\n",
    "                temp = max(value, temp)\n",
    "        return temp\n",
    "    else:\n",
    "        temp = float(\"inf\")\n",
    "\n",
    "        for choice in [1, 2, 3]:\n",
    "            if sticks_left - choice >= 0:\n",
    "                value = minimax(sticks_left - choice, True)\n",
    "                temp = min(value, temp)\n",
    "        return temp\n",
    "\n",
    "def choose(sticks_left):\n",
    "    \n",
    "    best_move = None\n",
    "    best_value = float(\"inf\")\n",
    "    \n",
    "    for choice in [1, 2, 3]:\n",
    "        if sticks_left - choice >= 0:\n",
    "            value = minimax(sticks_left - choice, False)\n",
    "            if value < best_value:\n",
    "                best_value = value\n",
    "                best_move = choice\n",
    "                \n",
    "    return best_move\n",
    "\n",
    "\n",
    "sticks_left = 21 \n",
    "print(\"Sticks left:\", sticks_left)\n",
    "while sticks_left > 0:\n",
    "\n",
    "    \n",
    "    b = choose(sticks_left)\n",
    "    print(\"AI chose\", b)\n",
    "    sticks_left -= b\n",
    "    \n",
    "    print(\"Sticks left:\", sticks_left)\n",
    "    \n",
    "    if(sticks_left == 0):\n",
    "        print(\"You loose\")\n",
    "        break\n",
    "    \n",
    "    a = int(input(\"Enter the number of sticks you want to pick [1, 2 or 3]: \"))\n",
    "    \n",
    "    while a not in [1, 2, 3] or a > sticks_left:\n",
    "        print(\"Please enter a valid number. \")\n",
    "        a = int(input(\"Enter the number of sticks you want to pick [1, 2 or 3]: \"))\n",
    "        \n",
    "    sticks_left -= a \n",
    "    print(\"Sticks left:\", sticks_left)\n",
    "    if sticks_left == 0:\n",
    "        print(\"You win\")\n",
    "        break"
   ]
  }
 ],
 "metadata": {
  "kernelspec": {
   "display_name": "Python 3 (ipykernel)",
   "language": "python",
   "name": "python3"
  },
  "language_info": {
   "codemirror_mode": {
    "name": "ipython",
    "version": 3
   },
   "file_extension": ".py",
   "mimetype": "text/x-python",
   "name": "python",
   "nbconvert_exporter": "python",
   "pygments_lexer": "ipython3",
   "version": "3.12.2"
  }
 },
 "nbformat": 4,
 "nbformat_minor": 5
}
