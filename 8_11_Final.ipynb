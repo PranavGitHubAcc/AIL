{
 "cells": [
  {
   "cell_type": "code",
   "execution_count": null,
   "id": "aed44e89-05cd-46e0-9c79-aaf4d23ffe1e",
   "metadata": {},
   "outputs": [],
   "source": [
    "import heapq\n",
    "\n",
    "def a_star_search(start, goal, graph, heuristics):\n",
    "    heap = []\n",
    "    heapq.heappush(heap, (heuristics[start], 0, start, [start]))  # (f = g + h, g, node, path)\n",
    "    visited = set()\n",
    "\n",
    "    while heap:\n",
    "        f, g, node, path = heapq.heappop(heap)\n",
    "\n",
    "        if node == goal:\n",
    "            print(\"Goal reached! Path:\", \" -> \".join(path))\n",
    "            print(\"Total cost:\", g)\n",
    "            return\n",
    "\n",
    "        if node not in visited:\n",
    "            print(\"Visited node:\", node)\n",
    "            visited.add(node)\n",
    "\n",
    "            for neighbour, weight in graph.get(node, []):\n",
    "                if neighbour not in visited:\n",
    "                    new_g = g + weight\n",
    "                    new_f = new_g + heuristics.get(neighbour, float('inf'))\n",
    "                    heapq.heappush(heap, (new_f, new_g, neighbour, path + [neighbour]))\n",
    "\n",
    "    print(\"Goal not reachable.\")\n",
    "\n",
    "n = int(input(\"Enter the number of edges: \"))\n",
    "graph = {}\n",
    "nodes = set()\n",
    "\n",
    "for i in range(n):\n",
    "    print(f\"Enter edge details for edge {i+1}\")\n",
    "    u = input(\"From node: \")\n",
    "    v = input(\"To node: \")\n",
    "    w = int(input(\"Weight: \"))\n",
    "\n",
    "    if u not in graph:\n",
    "        graph[u] = []\n",
    "    graph[u].append((v, w))\n",
    "    \n",
    "    nodes.add(u)\n",
    "    nodes.add(v)\n",
    "\n",
    "heuristics = {}\n",
    "for node in nodes:\n",
    "    h = int(input(f\"Enter heuristic value for node {node}: \"))\n",
    "    heuristics[node] = h\n",
    "\n",
    "start = input(\"Enter start node: \")\n",
    "goal = input(\"Enter goal node: \")\n",
    "\n",
    "a_star_search(start, goal, graph, heuristics)"
   ]
  }
 ],
 "metadata": {
  "kernelspec": {
   "display_name": "Python 3 (ipykernel)",
   "language": "python",
   "name": "python3"
  },
  "language_info": {
   "codemirror_mode": {
    "name": "ipython",
    "version": 3
   },
   "file_extension": ".py",
   "mimetype": "text/x-python",
   "name": "python",
   "nbconvert_exporter": "python",
   "pygments_lexer": "ipython3",
   "version": "3.12.2"
  }
 },
 "nbformat": 4,
 "nbformat_minor": 5
}
