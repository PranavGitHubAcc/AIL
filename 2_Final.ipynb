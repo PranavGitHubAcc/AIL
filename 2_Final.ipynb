{
 "cells": [
  {
   "cell_type": "code",
   "execution_count": 2,
   "id": "0b287de0-e647-4bc4-aa10-7217775fe139",
   "metadata": {},
   "outputs": [
    {
     "name": "stdin",
     "output_type": "stream",
     "text": [
      "Enter the number of edges:  7\n"
     ]
    },
    {
     "name": "stdout",
     "output_type": "stream",
     "text": [
      "Enter edge details for edge  1\n"
     ]
    },
    {
     "name": "stdin",
     "output_type": "stream",
     "text": [
      "Node 1:  A\n",
      "Node 2:  B\n"
     ]
    },
    {
     "name": "stdout",
     "output_type": "stream",
     "text": [
      "Enter edge details for edge  2\n"
     ]
    },
    {
     "name": "stdin",
     "output_type": "stream",
     "text": [
      "Node 1:  A\n",
      "Node 2:  C\n"
     ]
    },
    {
     "name": "stdout",
     "output_type": "stream",
     "text": [
      "Enter edge details for edge  3\n"
     ]
    },
    {
     "name": "stdin",
     "output_type": "stream",
     "text": [
      "Node 1:  B\n",
      "Node 2:  E\n"
     ]
    },
    {
     "name": "stdout",
     "output_type": "stream",
     "text": [
      "Enter edge details for edge  4\n"
     ]
    },
    {
     "name": "stdin",
     "output_type": "stream",
     "text": [
      "Node 1:  B\n",
      "Node 2:  D\n"
     ]
    },
    {
     "name": "stdout",
     "output_type": "stream",
     "text": [
      "Enter edge details for edge  5\n"
     ]
    },
    {
     "name": "stdin",
     "output_type": "stream",
     "text": [
      "Node 1:  C\n",
      "Node 2:  E\n"
     ]
    },
    {
     "name": "stdout",
     "output_type": "stream",
     "text": [
      "Enter edge details for edge  6\n"
     ]
    },
    {
     "name": "stdin",
     "output_type": "stream",
     "text": [
      "Node 1:  E\n",
      "Node 2:  F\n"
     ]
    },
    {
     "name": "stdout",
     "output_type": "stream",
     "text": [
      "Enter edge details for edge  7\n"
     ]
    },
    {
     "name": "stdin",
     "output_type": "stream",
     "text": [
      "Node 1:  D\n",
      "Node 2:  F\n"
     ]
    }
   ],
   "source": [
    "n = int(input(\"Enter the number of edges: \"))\n",
    "graph = {}\n",
    "for i in range(n):\n",
    "    print(\"Enter edge details for edge \", i+1)\n",
    "    u = input(\"Node 1: \")\n",
    "    v = input(\"Node 2: \")\n",
    "\n",
    "    if u not in graph: \n",
    "        graph[u] = []\n",
    "    if v not in graph:\n",
    "        graph[v] = []\n",
    "\n",
    "    graph[u].append(v)\n",
    "    graph[v].append(u)"
   ]
  },
  {
   "cell_type": "code",
   "execution_count": 16,
   "id": "b8a47704-3bab-4f61-8644-a2b5813cec78",
   "metadata": {},
   "outputs": [],
   "source": [
    "def dfs_iterative(start, graph):\n",
    "    visited = set()\n",
    "    stack = [start]\n",
    "\n",
    "    while stack: \n",
    "        node = stack.pop()\n",
    "        if node not in visited: \n",
    "            print(node+\" \") \n",
    "            visited.add(node)\n",
    "            for neighbour in graph[node]:\n",
    "                if neighbour not in visited:\n",
    "                    stack.append(neighbour)"
   ]
  },
  {
   "cell_type": "code",
   "execution_count": 18,
   "id": "bef6f1c6-ca7c-461b-b6d8-65be785dffee",
   "metadata": {},
   "outputs": [
    {
     "name": "stdout",
     "output_type": "stream",
     "text": [
      "A \n",
      "C \n",
      "E \n",
      "F \n",
      "D \n",
      "B \n"
     ]
    }
   ],
   "source": [
    "dfs_iterative('A', graph)"
   ]
  }
 ],
 "metadata": {
  "kernelspec": {
   "display_name": "Python 3 (ipykernel)",
   "language": "python",
   "name": "python3"
  },
  "language_info": {
   "codemirror_mode": {
    "name": "ipython",
    "version": 3
   },
   "file_extension": ".py",
   "mimetype": "text/x-python",
   "name": "python",
   "nbconvert_exporter": "python",
   "pygments_lexer": "ipython3",
   "version": "3.12.2"
  }
 },
 "nbformat": 4,
 "nbformat_minor": 5
}
