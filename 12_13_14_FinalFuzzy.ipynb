{
 "cells": [
  {
   "cell_type": "code",
   "execution_count": 30,
   "id": "a6305242-749c-4f3d-ade1-fbb75c84cbd3",
   "metadata": {},
   "outputs": [
    {
     "name": "stdout",
     "output_type": "stream",
     "text": [
      "Add elements to set A\n"
     ]
    },
    {
     "name": "stdin",
     "output_type": "stream",
     "text": [
      "Number of elements in set:  3\n",
      "Enter the name of the variable:  x\n",
      "Enter the membership value for the variable:  0.3\n",
      "Enter the name of the variable:  y\n",
      "Enter the membership value for the variable:  0.5\n",
      "Enter the name of the variable:  z\n",
      "Enter the membership value for the variable:  0.6\n"
     ]
    },
    {
     "name": "stdout",
     "output_type": "stream",
     "text": [
      "Add elements to set B\n"
     ]
    },
    {
     "name": "stdin",
     "output_type": "stream",
     "text": [
      "Number of elements in set:  3\n",
      "Enter the name of the variable:  x\n",
      "Enter the membership value for the variable:  0.5\n",
      "Enter the name of the variable:  y\n",
      "Enter the membership value for the variable:  0.9\n",
      "Enter the name of the variable:  p\n",
      "Enter the membership value for the variable:  0.2\n"
     ]
    },
    {
     "name": "stdout",
     "output_type": "stream",
     "text": [
      "{'x': 0.3, 'y': 0.5, 'z': 0.6}\n",
      "{'x': 0.5, 'y': 0.9, 'p': 0.2}\n",
      "{'y': 0.9, 'z': 0.6, 'p': 0.2, 'x': 0.5}\n",
      "{'y': 0.5, 'x': 0.3}\n",
      "{'y': 0.5, 'z': 0.4, 'p': 1, 'x': 0.7}\n",
      "LHS:  {'y': 0.1, 'z': 0.4, 'p': 0.8, 'x': 0.5}\n",
      "RHS:  {'y': 0.1, 'z': 0.4, 'p': 0.8, 'x': 0.5}\n"
     ]
    }
   ],
   "source": [
    "def union(A, B):\n",
    "    return {x: max(A.get(x, 0), B.get(x, 0)) for x in set(A) | set(B)}\n",
    "    \n",
    "def intersection(A, B):\n",
    "    return {x: min(A.get(x, 0), B.get(x, 0)) for x in set(A) | set(B)}\n",
    "\n",
    "def complement(A, universe):\n",
    "    return {x: round(1 - A.get(x, 0), 1) for x in universe}\n",
    "\n",
    "def get_fuzzy_sets(A):\n",
    "    n = int(input(\"Number of elements in set: \"))\n",
    "    for i in range(n):\n",
    "        a = input(\"Enter the name of the variable: \")\n",
    "        b = float(input(\"Enter the membership value for the variable: \"))\n",
    "        A[a] = round(b, 1) \n",
    "\n",
    "def de_morgans(A, B):\n",
    "\n",
    "    lhs = union(A, B)\n",
    "    lhs = complement(lhs, set(A) | set(B))\n",
    "\n",
    "    rhs = intersection(complement(A, set(A) | set(B)), complement(B, set(A) | set(B)))\n",
    "\n",
    "    print(\"LHS: \", lhs)\n",
    "    print(\"RHS: \", rhs)    \n",
    "    \n",
    "A = {}\n",
    "print(\"Add elements to set A\")\n",
    "get_fuzzy_sets(A)\n",
    "B = {}\n",
    "print(\"Add elements to set B\")\n",
    "get_fuzzy_sets(B)\n",
    "\n",
    "print(A)\n",
    "print(B)\n",
    "print(union(A, B))\n",
    "print(intersection(A, B))\n",
    "print(complement(A, set(A) | set(B)))\n",
    "de_morgans(A, B)"
   ]
  },
  {
   "cell_type": "code",
   "execution_count": 34,
   "id": "0ac590d3-0445-44fe-b2c7-3d9d141daeee",
   "metadata": {},
   "outputs": [
    {
     "name": "stdout",
     "output_type": "stream",
     "text": [
      "Add elements to set A\n"
     ]
    },
    {
     "name": "stdin",
     "output_type": "stream",
     "text": [
      "Number of elements in set:  3\n",
      "Enter the name of the variable:  x\n",
      "Enter the membership value for the variable:  0.3\n",
      "Enter the name of the variable:  y\n",
      "Enter the membership value for the variable:  0.9\n",
      "Enter the name of the variable:  p\n",
      "Enter the membership value for the variable:  0.2\n"
     ]
    },
    {
     "name": "stdout",
     "output_type": "stream",
     "text": [
      "Add elements to set B\n"
     ]
    },
    {
     "name": "stdin",
     "output_type": "stream",
     "text": [
      "Number of elements in set:  3\n",
      "Enter the name of the variable:  x\n",
      "Enter the membership value for the variable:  0.4\n",
      "Enter the name of the variable:  y\n",
      "Enter the membership value for the variable:  0.8\n",
      "Enter the name of the variable:  q\n",
      "Enter the membership value for the variable:  0.7\n"
     ]
    },
    {
     "name": "stdout",
     "output_type": "stream",
     "text": [
      "Add elements to set C\n"
     ]
    },
    {
     "name": "stdin",
     "output_type": "stream",
     "text": [
      "Number of elements in set:  3\n",
      "Enter the name of the variable:  x\n",
      "Enter the membership value for the variable:  0.1\n",
      "Enter the name of the variable:  y\n",
      "Enter the membership value for the variable:  0.2\n",
      "Enter the name of the variable:  r\n",
      "Enter the membership value for the variable:  0.5\n"
     ]
    },
    {
     "name": "stdout",
     "output_type": "stream",
     "text": [
      "{'y': 0.9, 'q': 0.7, 'r': 0.5, 'p': 0.2, 'x': 0.4}\n",
      "{'y': 0.2, 'q': 0, 'r': 0, 'p': 0, 'x': 0.1}\n",
      "{'y': 0.1, 'q': 1, 'r': 1, 'p': 0.8, 'x': 0.7}\n"
     ]
    }
   ],
   "source": [
    "def union3(A, B, C):\n",
    "    return {x: max(A.get(x, 0), B.get(x, 0), C.get(x, 0)) for x in set(A) | set(B) | set(C)}\n",
    "def intersection3(A, B, C):\n",
    "    return {x: min(A.get(x, 0), B.get(x, 0), C.get(x, 0)) for x in set(A) | set(B) | set(C)}\n",
    "def complement(A, universe):\n",
    "    return {x: round(1 - A.get(x, 0), 1) for x in universe}\n",
    "A = {}\n",
    "print(\"Add elements to set A\")\n",
    "get_fuzzy_sets(A)\n",
    "B = {}\n",
    "print(\"Add elements to set B\")\n",
    "get_fuzzy_sets(B)\n",
    "C = {}\n",
    "print(\"Add elements to set C\")\n",
    "get_fuzzy_sets(C)\n",
    "\n",
    "print(union3(A, B, C))\n",
    "print(intersection3(A, B, C))\n",
    "print(complement(A, set(A) | set(B) | set(C)))"
   ]
  }
 ],
 "metadata": {
  "kernelspec": {
   "display_name": "Python 3 (ipykernel)",
   "language": "python",
   "name": "python3"
  },
  "language_info": {
   "codemirror_mode": {
    "name": "ipython",
    "version": 3
   },
   "file_extension": ".py",
   "mimetype": "text/x-python",
   "name": "python",
   "nbconvert_exporter": "python",
   "pygments_lexer": "ipython3",
   "version": "3.12.2"
  }
 },
 "nbformat": 4,
 "nbformat_minor": 5
}
