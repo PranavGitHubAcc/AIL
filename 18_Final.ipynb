{
 "cells": [
  {
   "cell_type": "code",
   "execution_count": 4,
   "id": "1fa340be-5ec9-44a0-a0ef-f937aa097297",
   "metadata": {},
   "outputs": [],
   "source": [
    "import numpy as np \n",
    "import random \n",
    "import itertools "
   ]
  },
  {
   "cell_type": "code",
   "execution_count": 8,
   "id": "0f08be38-c0ab-4bc2-80fc-03fd5ab85bcf",
   "metadata": {},
   "outputs": [],
   "source": [
    "def step(x):\n",
    "    return 1 if x >= 0 else 0"
   ]
  },
  {
   "cell_type": "code",
   "execution_count": 18,
   "id": "3c71e18a-617e-44a3-b13d-3d3dd26225ee",
   "metadata": {},
   "outputs": [],
   "source": [
    "def forward_propagate(X, w1, b1, w2, b2): \n",
    "    \n",
    "    z1 = np.dot(X, w1) + b1 \n",
    "    a1 = np.vectorize(step) (z1) \n",
    "    z2 = np.dot(a1, w2) + b2 \n",
    "    a2 = np.vectorize(step) (z2) \n",
    "    \n",
    "    return a2"
   ]
  },
  {
   "cell_type": "code",
   "execution_count": 12,
   "id": "59a0d05e-5fb3-4385-852d-030ff7869ca8",
   "metadata": {},
   "outputs": [],
   "source": [
    "def generate_combinations(n):\n",
    "    return np.array(list(itertools.product([0, 1], repeat=n)))"
   ]
  },
  {
   "cell_type": "code",
   "execution_count": 43,
   "id": "ece37ff9-27da-4689-ac69-a2c093fb9aeb",
   "metadata": {},
   "outputs": [
    {
     "name": "stdout",
     "output_type": "stream",
     "text": [
      "Enter the output for the inputs [0, 0]\n"
     ]
    },
    {
     "name": "stdin",
     "output_type": "stream",
     "text": [
      "1.  1\n",
      "2.  0\n"
     ]
    },
    {
     "name": "stdout",
     "output_type": "stream",
     "text": [
      "Enter the output for the inputs [0, 1]\n"
     ]
    },
    {
     "name": "stdin",
     "output_type": "stream",
     "text": [
      "1.  1\n",
      "2.  1\n"
     ]
    },
    {
     "name": "stdout",
     "output_type": "stream",
     "text": [
      "Enter the output for the inputs [1, 0]\n"
     ]
    },
    {
     "name": "stdin",
     "output_type": "stream",
     "text": [
      "1.  0\n",
      "2.  1\n"
     ]
    },
    {
     "name": "stdout",
     "output_type": "stream",
     "text": [
      "Enter the output for the inputs [1, 1]\n"
     ]
    },
    {
     "name": "stdin",
     "output_type": "stream",
     "text": [
      "1.  0\n",
      "2.  1\n"
     ]
    },
    {
     "name": "stdout",
     "output_type": "stream",
     "text": [
      "[[1 0]\n",
      " [1 1]\n",
      " [0 1]\n",
      " [0 1]]\n"
     ]
    }
   ],
   "source": [
    "num_inputs = 2\n",
    "X = generate_combinations(num_inputs)\n",
    "\n",
    "output = []\n",
    "for row in X:\n",
    "    temp = []\n",
    "    print(f\"Enter the output for the inputs {list(row)}\")\n",
    "    a = int(input(\"1. \"))\n",
    "    b = int(input(\"2. \"))\n",
    "    temp.append(a)\n",
    "    temp.append(b)\n",
    "    output.append(temp)\n",
    "y = np.array(output)\n",
    "print(y)"
   ]
  },
  {
   "cell_type": "code",
   "execution_count": 51,
   "id": "f8077d75-4338-46c9-bfd8-356c7a0037e6",
   "metadata": {},
   "outputs": [
    {
     "name": "stdout",
     "output_type": "stream",
     "text": [
      "Found at iteration: 9357\n",
      "[[ 0.16160028 -1.13464554 -1.93723633]\n",
      " [ 0.18000064 -0.33339169  1.66908886]]\n",
      "0\n",
      "[[-1.37754866  1.25892256]\n",
      " [ 1.32376206 -1.57107001]\n",
      " [ 1.76017669 -1.08694303]]\n",
      "0\n"
     ]
    }
   ],
   "source": [
    "found = False \n",
    "iterations = 0\n",
    "\n",
    "while not found: \n",
    "    iterations += 1\n",
    "    w1 = np.random.uniform(-2, 2, (num_inputs, 3))\n",
    "    b1 = np.random.randint(-3, 3)\n",
    "\n",
    "    w2 = np.random.uniform(-2, 2, (3, 2))\n",
    "    b2 = np.random.randint(-3, 3)\n",
    "\n",
    "    result = forward_propagate(X, w1, b1, w2, b2)\n",
    "    if np.array_equal(np.array(result), y):\n",
    "        print(f\"Found at iteration: {iterations}\")\n",
    "        print(w1)\n",
    "        print(b1)\n",
    "        print(w2)\n",
    "        print(b2)\n",
    "        found = True\n",
    "\n",
    "    if iterations % 100000 == 0:\n",
    "        print(f\"Iteration {iterations}: still searching...\")"
   ]
  }
 ],
 "metadata": {
  "kernelspec": {
   "display_name": "Python 3 (ipykernel)",
   "language": "python",
   "name": "python3"
  },
  "language_info": {
   "codemirror_mode": {
    "name": "ipython",
    "version": 3
   },
   "file_extension": ".py",
   "mimetype": "text/x-python",
   "name": "python",
   "nbconvert_exporter": "python",
   "pygments_lexer": "ipython3",
   "version": "3.12.2"
  }
 },
 "nbformat": 4,
 "nbformat_minor": 5
}
