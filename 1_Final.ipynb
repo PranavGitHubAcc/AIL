{
 "cells": [
  {
   "cell_type": "code",
   "execution_count": 2,
   "id": "0ccf63e4-d1d2-4972-9787-9f9364f009ea",
   "metadata": {},
   "outputs": [],
   "source": [
    "import pandas as pd"
   ]
  },
  {
   "cell_type": "code",
   "execution_count": 10,
   "id": "6239c509-c481-4e1e-9626-bccd2623bc49",
   "metadata": {},
   "outputs": [],
   "source": [
    "df = pd.read_csv('test_edges.csv')\n",
    "\n",
    "graph = {}\n",
    "\n",
    "for _, row in df.iterrows():\n",
    "    u = row['node_1']\n",
    "    v = row['node_2']\n",
    "\n",
    "    if u not in graph:\n",
    "        graph[u] = []\n",
    "    if v not in graph: \n",
    "        graph[v] = []\n",
    "\n",
    "    graph[u].append(v)\n",
    "    graph[v].append(u) "
   ]
  },
  {
   "cell_type": "code",
   "execution_count": 12,
   "id": "829d4d90-d3fb-4b82-a40e-f2405d14d065",
   "metadata": {},
   "outputs": [
    {
     "data": {
      "text/plain": [
       "{'A': ['B', 'C'],\n",
       " 'B': ['A', 'D', 'E'],\n",
       " 'C': ['A'],\n",
       " 'D': ['B', 'F'],\n",
       " 'E': ['B', 'F'],\n",
       " 'F': ['E', 'D']}"
      ]
     },
     "execution_count": 12,
     "metadata": {},
     "output_type": "execute_result"
    }
   ],
   "source": [
    "graph"
   ]
  },
  {
   "cell_type": "code",
   "execution_count": 14,
   "id": "874ff571-4111-4242-8343-1d086b71438d",
   "metadata": {},
   "outputs": [],
   "source": [
    "def dfs(node, visited): \n",
    "    print(node+\" \")\n",
    "    visited.append(node)\n",
    "    for neighbour in graph[node]:\n",
    "        if neighbour not in visited:\n",
    "            dfs(neighbour, visited)"
   ]
  },
  {
   "cell_type": "code",
   "execution_count": 18,
   "id": "5bf2ada8-84b8-4bbf-93ce-99c6dfcbdf09",
   "metadata": {},
   "outputs": [
    {
     "name": "stdout",
     "output_type": "stream",
     "text": [
      "A \n",
      "B \n",
      "D \n",
      "F \n",
      "E \n",
      "C \n"
     ]
    }
   ],
   "source": [
    "start_node = 'A'\n",
    "dfs(start_node, [])"
   ]
  }
 ],
 "metadata": {
  "kernelspec": {
   "display_name": "Python 3 (ipykernel)",
   "language": "python",
   "name": "python3"
  },
  "language_info": {
   "codemirror_mode": {
    "name": "ipython",
    "version": 3
   },
   "file_extension": ".py",
   "mimetype": "text/x-python",
   "name": "python",
   "nbconvert_exporter": "python",
   "pygments_lexer": "ipython3",
   "version": "3.12.2"
  }
 },
 "nbformat": 4,
 "nbformat_minor": 5
}
