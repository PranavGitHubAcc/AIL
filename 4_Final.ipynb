{
 "cells": [
  {
   "cell_type": "code",
   "execution_count": 2,
   "id": "9372f361-df0a-4ab5-9ccd-47537a6a1e1f",
   "metadata": {},
   "outputs": [],
   "source": [
    "import heapq"
   ]
  },
  {
   "cell_type": "code",
   "execution_count": 6,
   "id": "75068c09-2e3a-4815-a41d-08c2474ef67c",
   "metadata": {},
   "outputs": [
    {
     "name": "stdin",
     "output_type": "stream",
     "text": [
      "Enter the number of edges:  7\n"
     ]
    },
    {
     "name": "stdout",
     "output_type": "stream",
     "text": [
      "Enter edge details for edge  1\n"
     ]
    },
    {
     "name": "stdin",
     "output_type": "stream",
     "text": [
      "Node 1:  A\n",
      "Node 2:  B\n"
     ]
    },
    {
     "name": "stdout",
     "output_type": "stream",
     "text": [
      "Enter edge details for edge  2\n"
     ]
    },
    {
     "name": "stdin",
     "output_type": "stream",
     "text": [
      "Node 1:  A\n",
      "Node 2:  C\n"
     ]
    },
    {
     "name": "stdout",
     "output_type": "stream",
     "text": [
      "Enter edge details for edge  3\n"
     ]
    },
    {
     "name": "stdin",
     "output_type": "stream",
     "text": [
      "Node 1:  C\n",
      "Node 2:  E\n"
     ]
    },
    {
     "name": "stdout",
     "output_type": "stream",
     "text": [
      "Enter edge details for edge  4\n"
     ]
    },
    {
     "name": "stdin",
     "output_type": "stream",
     "text": [
      "Node 1:  B\n",
      "Node 2:  E\n"
     ]
    },
    {
     "name": "stdout",
     "output_type": "stream",
     "text": [
      "Enter edge details for edge  5\n"
     ]
    },
    {
     "name": "stdin",
     "output_type": "stream",
     "text": [
      "Node 1:  B\n",
      "Node 2:  D\n"
     ]
    },
    {
     "name": "stdout",
     "output_type": "stream",
     "text": [
      "Enter edge details for edge  6\n"
     ]
    },
    {
     "name": "stdin",
     "output_type": "stream",
     "text": [
      "Node 1:  D\n",
      "Node 2:  F\n"
     ]
    },
    {
     "name": "stdout",
     "output_type": "stream",
     "text": [
      "Enter edge details for edge  7\n"
     ]
    },
    {
     "name": "stdin",
     "output_type": "stream",
     "text": [
      "Node 1:  E\n",
      "Node 2:  F\n",
      "Enter heuristic value for node: B 2\n",
      "Enter heuristic value for node: A 7\n",
      "Enter heuristic value for node: D 4\n",
      "Enter heuristic value for node: C 2\n",
      "Enter heuristic value for node: E 0\n"
     ]
    },
    {
     "name": "stdout",
     "output_type": "stream",
     "text": [
      "Visited node:  A\n",
      "Visited node:  B\n",
      "Goal reached\n"
     ]
    }
   ],
   "source": [
    "def best_first_search(start, graph, heuristics, goal):\n",
    "    heap = []\n",
    "    heapq.heappush(heap, (heuristics[start], start))\n",
    "    visited = set()\n",
    "    while heap:\n",
    "        h, node = heapq.heappop(heap)\n",
    "        if node == goal:\n",
    "            print(\"Goal reached\")\n",
    "            return\n",
    "        if node not in visited:\n",
    "            print(\"Visited node: \", node)\n",
    "            visited.add(node)\n",
    "            for neighbour in graph.get(node, []):\n",
    "                if neighbour not in visited:\n",
    "                    heapq.heappush(heap, (heuristics[neighbour], neighbour))\n",
    "\n",
    "n = int(input(\"Enter the number of edges: \"))\n",
    "graph = {}\n",
    "nodes = set()\n",
    "for i in range(n):\n",
    "    print(\"Enter edge details for edge \", i+1)\n",
    "    u = input(\"Node 1: \")\n",
    "    v = input(\"Node 2: \")\n",
    "    \n",
    "    if u not in graph: \n",
    "        \n",
    "        graph[u] = []\n",
    "        \n",
    "    graph[u].append(v)\n",
    "    nodes.add(u)\n",
    "    nodes.add(v)\n",
    "    \n",
    "heuristics = {}\n",
    "for node in nodes:\n",
    "    h = int(input(f\"Enter heuristic value for node: {node}\"))\n",
    "    heuristics[node] = h\n",
    "\n",
    "best_first_search('A', graph, heuristics, 'E')"
   ]
  },
  {
   "cell_type": "code",
   "execution_count": null,
   "id": "4858b1b5-2eb9-4005-b377-918ef3f1398b",
   "metadata": {},
   "outputs": [],
   "source": []
  },
  {
   "cell_type": "code",
   "execution_count": null,
   "id": "5bd3c3f5-ad80-43e1-8123-6cc36d5df8df",
   "metadata": {},
   "outputs": [],
   "source": []
  }
 ],
 "metadata": {
  "kernelspec": {
   "display_name": "Python 3 (ipykernel)",
   "language": "python",
   "name": "python3"
  },
  "language_info": {
   "codemirror_mode": {
    "name": "ipython",
    "version": 3
   },
   "file_extension": ".py",
   "mimetype": "text/x-python",
   "name": "python",
   "nbconvert_exporter": "python",
   "pygments_lexer": "ipython3",
   "version": "3.12.2"
  }
 },
 "nbformat": 4,
 "nbformat_minor": 5
}
